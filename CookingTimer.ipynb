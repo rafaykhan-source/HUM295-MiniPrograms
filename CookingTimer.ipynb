{
  "nbformat": 4,
  "nbformat_minor": 0,
  "metadata": {
    "colab": {
      "name": "HUM295_CookingTimer.ipynb",
      "provenance": []
    },
    "kernelspec": {
      "name": "python3",
      "display_name": "Python 3"
    },
    "language_info": {
      "name": "python"
    }
  },
  "cells": [
    {
      "cell_type": "markdown",
      "source": [
        "## Python CookingTimer App!\n",
        "#### Here's a more refined version of the cooking timer app that I made in class!"
      ],
      "metadata": {
        "id": "bbl9rO8o58f2"
      }
    },
    {
      "cell_type": "code",
      "execution_count": 1,
      "metadata": {
        "colab": {
          "base_uri": "https://localhost:8080/"
        },
        "id": "sPhzfF-p55dz",
        "outputId": "4302174f-6a04-4621-f985-d204589a61c7"
      },
      "outputs": [
        {
          "output_type": "stream",
          "name": "stdout",
          "text": [
            "Welcome to the Cooking Timer Application!\n",
            "What food do you wish to set the timer for? Pizza\n",
            "How long, in minutes, would you like to set the timer for? .5\n",
            "Enter any response to start the timer. Start!\n",
            "Your timer has begun! \n",
            "Your Pizza is done cooking!\n",
            "Would you like to use the timer again? no\n",
            "Thank you for using the Cooking Timer app!\n"
          ]
        }
      ],
      "source": [
        "import time\n",
        "\n",
        "print(\"Welcome to the Cooking Timer Application!\")\n",
        "\n",
        "while True:\n",
        "  food = input(\"What food do you wish to set the timer for? \")\n",
        "  timer_length = float(input(\"How long, in minutes, would you like to set the timer for? \"))\n",
        "  input(\"Enter any response to start the timer. \")\n",
        "  print(\"Your timer has begun! \")\n",
        "  time.sleep(timer_length*60)\n",
        "  print(f\"Your {food} is done cooking!\")\n",
        "  again = input(\"Would you like to use the timer again? \")\n",
        "  if (again == \"Yes\") or (again == \"yes\"):\n",
        "    continue\n",
        "  else: \n",
        "    break\n",
        "\n",
        "print(\"Thank you for using the Cooking Timer app!\")"
      ]
    }
  ]
}