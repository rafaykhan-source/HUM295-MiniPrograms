{
  "nbformat": 4,
  "nbformat_minor": 0,
  "metadata": {
    "colab": {
      "name": "CookingTimer.ipynb",
      "provenance": []
    },
    "kernelspec": {
      "name": "python3",
      "display_name": "Python 3"
    },
    "language_info": {
      "name": "python"
    }
  },
  "cells": [
    {
      "cell_type": "markdown",
      "source": [
        "## Python CookingTimer App!\n",
        "#### Here's a more refined version of the cooking timer app that I made in class!"
      ],
      "metadata": {
        "id": "bbl9rO8o58f2"
      }
    },
    {
      "cell_type": "code",
      "execution_count": 1,
      "metadata": {
        "colab": {
          "base_uri": "https://localhost:8080/"
        },
        "id": "sPhzfF-p55dz",
        "outputId": "bde2b28a-0231-4bce-e20e-a37140e974c5"
      },
      "outputs": [
        {
          "output_type": "stream",
          "name": "stdout",
          "text": [
            "Welcome to the Cooking Timer Application!\n",
            "What food do you wish to set the timer for? pizza\n",
            "How long, in minutes, would you like to set the timer for? .01\n",
            "Your timer has begun! \n",
            "Your pizza is done cooking!\n",
            "Would you like to use the timer again?  yes \n",
            "What food do you wish to set the timer for? pizza\n",
            "How long, in minutes, would you like to set the timer for? .01\n",
            "Your timer has begun! \n",
            "Your pizza is done cooking!\n",
            "Would you like to use the timer again? no\n",
            "Thank you for using the Cooking Timer app!\n"
          ]
        }
      ],
      "source": [
        "import time\n",
        "\n",
        "print(\"Welcome to the Cooking Timer Application!\")\n",
        "\n",
        "while True:\n",
        "  food = input(\"What food do you wish to set the timer for? \")\n",
        "  timer_length = float(input(\"How long, in minutes, would you like to set the timer for? \"))\n",
        "  print(\"Your timer has begun! \")\n",
        "  time.sleep(timer_length*60)\n",
        "  print(f\"Your {food} is done cooking!\")\n",
        "  again = input(\"Would you like to use the timer again? \")\n",
        "  if 'Yes' in again or 'yes' in again:\n",
        "    continue\n",
        "  else: \n",
        "    break\n",
        "\n",
        "print(\"Thank you for using the Cooking Timer app!\")"
      ]
    }
  ]
}