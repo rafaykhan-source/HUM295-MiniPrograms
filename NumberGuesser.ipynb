{
  "nbformat": 4,
  "nbformat_minor": 0,
  "metadata": {
    "colab": {
      "name": "NumberGuesser.ipynb",
      "provenance": [],
      "authorship_tag": "ABX9TyM4jXZ9cflSVhooj68L2nRd"
    },
    "kernelspec": {
      "name": "python3",
      "display_name": "Python 3"
    },
    "language_info": {
      "name": "python"
    }
  },
  "cells": [
    {
      "cell_type": "code",
      "execution_count": 11,
      "metadata": {
        "colab": {
          "base_uri": "https://localhost:8080/"
        },
        "id": "dbWV6nlJV7G-",
        "outputId": "09aa5a77-36ef-4b13-eba6-293f1b840e60"
      },
      "outputs": [
        {
          "output_type": "stream",
          "name": "stdout",
          "text": [
            "Guess a whole number between 0 and 10, inclusive: 9\n",
            "You guessed it! Thanks for playing!\n"
          ]
        }
      ],
      "source": [
        "import random\n",
        "\n",
        "answer = random.randrange(0,11)\n",
        "\n",
        "guess = int(input('Guess a whole number between 0 and 10, inclusive: '))\n",
        "\n",
        "while guess != answer:\n",
        "  try:\n",
        "    guess = int(input('Guess again! '))\n",
        "  except:\n",
        "    response = input(\"You have to guess a whole number! Do you give up? (Yes or No) \")\n",
        "    if response == 'Yes' or response == 'yes':\n",
        "      break\n",
        "    else: \n",
        "      continue\n",
        "\n",
        "if guess == answer: \n",
        "  print('You guessed it! Thanks for playing!')\n",
        "else:\n",
        "  print('Maybe next time. Thanks for playing!')"
      ]
    }
  ]
}