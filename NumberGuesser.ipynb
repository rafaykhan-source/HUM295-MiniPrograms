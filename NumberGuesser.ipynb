{
  "nbformat": 4,
  "nbformat_minor": 0,
  "metadata": {
    "colab": {
      "name": "NumberGuesser.ipynb",
      "provenance": [],
      "authorship_tag": "ABX9TyNtnWyQRLGXw/Tf5aGFQPMH"
    },
    "kernelspec": {
      "name": "python3",
      "display_name": "Python 3"
    },
    "language_info": {
      "name": "python"
    }
  },
  "cells": [
    {
      "cell_type": "code",
      "execution_count": 12,
      "metadata": {
        "colab": {
          "base_uri": "https://localhost:8080/"
        },
        "id": "dbWV6nlJV7G-",
        "outputId": "51b50c21-2a4f-4af8-9e4a-bab578ae1ac5"
      },
      "outputs": [
        {
          "output_type": "stream",
          "name": "stdout",
          "text": [
            "Guess a whole number between 0 and 10, inclusive: 9\n",
            "Guess again! 8\n",
            "Guess again! 6\n",
            "Guess again! 3\n",
            "Guess again! 4\n",
            "Guess again! 5\n",
            "Guess again! 2\n",
            "Guess again! 1\n",
            "You guessed it! Thanks for playing!\n"
          ]
        }
      ],
      "source": [
        "import random\n",
        "\n",
        "answer = random.randrange(0,11)\n",
        "\n",
        "guess = int(input('Guess a whole number between 0 and 10, inclusive: '))\n",
        "\n",
        "while guess != answer:\n",
        "  try:\n",
        "    guess = int(input('Guess again! '))\n",
        "  except:\n",
        "    response = input(\"You have to guess a whole number! Do you give up? (Yes or No) \")\n",
        "    if 'Yes' in response or 'yes' in response:\n",
        "      break\n",
        "    else: \n",
        "      continue\n",
        "\n",
        "if guess == answer: \n",
        "  print('You guessed it! Thanks for playing!')\n",
        "else:\n",
        "  print('Maybe next time. Thanks for playing!')"
      ]
    }
  ]
}