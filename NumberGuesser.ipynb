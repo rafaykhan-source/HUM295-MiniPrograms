{
  "nbformat": 4,
  "nbformat_minor": 0,
  "metadata": {
    "colab": {
      "name": "NumberGuesser.ipynb",
      "provenance": [],
      "authorship_tag": "ABX9TyNoMRFkuU9VmQUIBTPKw+M+"
    },
    "kernelspec": {
      "name": "python3",
      "display_name": "Python 3"
    },
    "language_info": {
      "name": "python"
    }
  },
  "cells": [
    {
      "cell_type": "code",
      "execution_count": 2,
      "metadata": {
        "colab": {
          "base_uri": "https://localhost:8080/"
        },
        "id": "dbWV6nlJV7G-",
        "outputId": "58dec4f4-e3b7-4a4e-b773-724ea69601c7"
      },
      "outputs": [
        {
          "output_type": "stream",
          "name": "stdout",
          "text": [
            "Guess a whole number between 0 and 10, inclusive: 8\n",
            "Guess again! 5\n",
            "Guess again! I have no idea\n",
            "Do you give up? (Yes or No) yes\n",
            "Maybe next time. Thanks for playing!\n"
          ]
        }
      ],
      "source": [
        "import random\n",
        "\n",
        "answer = random.randrange(0,11)\n",
        "\n",
        "guess = int(input('Guess a whole number between 0 and 10, inclusive: '))\n",
        "\n",
        "while guess != answer:\n",
        "  try:\n",
        "    guess = int(input('Guess again! '))\n",
        "  except:\n",
        "    response = input(\"Do you give up? (Yes or No) \").lower()\n",
        "    if 'yes' in response: break\n",
        "\n",
        "if guess == answer: \n",
        "  print('You guessed it! Thanks for playing!')\n",
        "else:\n",
        "  print('Maybe next time. Thanks for playing!')"
      ]
    }
  ]
}